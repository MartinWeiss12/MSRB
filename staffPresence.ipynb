{
  "nbformat": 4,
  "nbformat_minor": 0,
  "metadata": {
    "colab": {
      "name": "staffPresence.ipynb",
      "provenance": [],
      "collapsed_sections": [],
      "authorship_tag": "ABX9TyMHVcnjM056RtSXSfbToDXx",
      "include_colab_link": true
    },
    "kernelspec": {
      "name": "python3",
      "display_name": "Python 3"
    },
    "language_info": {
      "name": "python"
    }
  },
  "cells": [
    {
      "cell_type": "markdown",
      "metadata": {
        "id": "view-in-github",
        "colab_type": "text"
      },
      "source": [
        "<a href=\"https://colab.research.google.com/github/MartinWeiss12/MSRB/blob/main/staffPresence.ipynb\" target=\"_parent\"><img src=\"https://colab.research.google.com/assets/colab-badge.svg\" alt=\"Open In Colab\"/></a>"
      ]
    },
    {
      "cell_type": "markdown",
      "source": [
        "# **Steps**\n",
        "\n",
        "1) Click folder icon on the left, thrird one down, to open the folder\n",
        "\n",
        "<<\n",
        "\n",
        "2) Drag file under sample_data\n",
        "\n",
        "3) Click small play arrow next to #<< Click to start!\n",
        "\n",
        "4) Scroll down until and wait about 10 seconds until you see: Please enter the date in the format it appers in the file name:\n",
        "\n",
        "5) Enter the desired date in the format of **dd** or **m.dd** or **m.dd.yyyy**\n",
        "\n",
        "Examples: 12 or 7.12 or 7.12.2022 and 12.12.2022\n",
        "\n",
        "6) Wait a few seconds for the program to run\n",
        "\n",
        "7) The number of people will be printed as well as a list of names\n",
        "\n",
        "8) The file will automaticaly delete a few seconds after you see the list of names"
      ],
      "metadata": {
        "id": "prAh7wEQvcJL"
      }
    },
    {
      "cell_type": "code",
      "source": [
        "#<< Click to start!\n",
        "!pip install pdfplumber\n",
        "from IPython.display import clear_output\n",
        "clear_output()\n",
        "import os\n",
        "import pdfplumber\n",
        "import pandas as pd\n",
        "value = input('Please enter the date in the format it appers in the file name: ')\n",
        "path = '/content/'\n",
        "files = os.listdir(path)\n",
        "for file in range(len(files)):\n",
        "  fileName = str(files[file])\n",
        "  if(value in fileName):\n",
        "    path = files[file]\n",
        "data = pdfplumber.open(path)\n",
        "rawExtractedData = []\n",
        "with pdfplumber.open(path) as pdf:\n",
        "\tpages = pdf.pages\n",
        "\tfor i, pg in enumerate(pages):\n",
        "\t\trawExtractedData.append(data.pages[i].extract_table())\n",
        "extractedData = [x for xs in rawExtractedData for x in xs]\n",
        "cleanedData = [(i[2], i[3], i[4]) for i in extractedData]\n",
        "df = pd.DataFrame(cleanedData, columns = ['Tenannt', 'First Name', 'Last Name'])\n",
        "for i in range(df.shape[0]):\n",
        "\tif(df.iloc[:,0][i] != 'MSRB'):\n",
        "\t\tdf.drop([i], axis = 0, inplace = True)\n",
        "nameList = []\n",
        "for i in range(df.shape[0]):\n",
        "\tname = df.iloc[i, 1].replace('\\n','') + ' ' + df.iloc[i, 2].replace('\\n','')\n",
        "\tif(('ADMIN' not in name) and ('VISITOR' not in name) and ('Cater' not in name) and ('Construction' not in name) and ('Admin' not in name) and ('Visitor' not in name)):\n",
        "\t\tnameList.append(name)\n",
        "nameListKeys = list(dict.fromkeys(nameList))\n",
        "print('People in the office on', value, ':', len(nameListKeys))\n",
        "for name in range(len(nameListKeys)):\n",
        "\tprint(nameListKeys[name])\n",
        "os.remove(path)"
      ],
      "metadata": {
        "colab": {
          "base_uri": "https://localhost:8080/"
        },
        "id": "d5WjvClodWQC",
        "outputId": "c95d84e1-c07b-4733-8dcd-3566f02e041c"
      },
      "execution_count": null,
      "outputs": [
        {
          "output_type": "stream",
          "name": "stdout",
          "text": [
            "Please enter the date in the format it appers in the file name: 7.6.2022\n",
            "People in the office on 7.6.2022 : 8\n",
            "Joan Spencer\n",
            "Martin Weiss\n",
            "Ken Allen\n",
            "Olaf Schoenrich\n",
            "Tyrone Boyd\n",
            "Dylan Keleman\n",
            "Jake Lesser\n",
            "Srinivasan Adusumilli\n"
          ]
        }
      ]
    }
  ]
}